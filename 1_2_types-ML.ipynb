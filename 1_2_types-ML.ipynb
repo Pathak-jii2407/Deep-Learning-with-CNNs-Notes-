{
 "cells": [
  {
   "cell_type": "markdown",
   "id": "a89a6f50-4784-4d5f-ab6a-2f56eba1eeb3",
   "metadata": {},
   "source": [
    "# 1.2: Types of Machine Learning\n",
    "Machine Learning is broadly classified into three types based on how the learning process occurs and the kind of data used:"
   ]
  },
  {
   "cell_type": "markdown",
   "id": "a61fcbef-5826-4ff9-9577-8be66d661f11",
   "metadata": {},
   "source": [
    "### 1. Supervised Learning"
   ]
  },
  {
   "cell_type": "markdown",
   "id": "b668c357-d046-46df-a19e-4975bbe78024",
   "metadata": {},
   "source": [
    "* In Supervised Learning, the model learns from labeled data where the input features (X) are paired with the correct output labels (Y).\n",
    "* The goal is to predict the output for unseen data by learning the relationship between the inputs and outputs."
   ]
  },
  {
   "cell_type": "markdown",
   "id": "47370199-4767-4fbd-b8bc-3df544d5f7aa",
   "metadata": {},
   "source": [
    "##### Steps in Supervised Learning:\n",
    "1. Input data (features) and output labels (target) are provided.\n",
    "2. The model is trained to find a relationship between input and output.\n",
    "3. After training, the model is evaluated using new data."
   ]
  },
  {
   "cell_type": "markdown",
   "id": "b4085e86-7f77-4e3e-a79b-e651d70361d9",
   "metadata": {},
   "source": [
    "#### Examples:\n",
    "* Regression (Predicting continuous values):\n",
    "    - Problem: Predict house prices.\n",
    "    - Input Features: House size, number of rooms, location.\n",
    "    - Output: House price.\n",
    "\n",
    "* Classification (Predicting categorical labels):\n",
    "    - Problem: Classify whether an email is spam or not.\n",
    "    - Input Features: Words in the email, frequency of specific terms.\n",
    "    - Output: Spam (Yes/No)."
   ]
  },
  {
   "cell_type": "markdown",
   "id": "0c50729e-6189-4467-8171-c7550e485270",
   "metadata": {},
   "source": [
    "### 2. Unsupervised Learning"
   ]
  },
  {
   "cell_type": "markdown",
   "id": "a29c7053-39a0-4d68-ba37-2c24c7c03e26",
   "metadata": {},
   "source": [
    "* In Unsupervised Learning, the model is provided with **unlabeled data**, and the goal is to find patterns, structures, or relationships in the data without predefined labels.\n",
    "* This type is often used for **clustering** or **dimensionality reduction**.\n"
   ]
  },
  {
   "cell_type": "markdown",
   "id": "96350bd7-77b3-457d-a79a-ff6e57553a88",
   "metadata": {},
   "source": [
    "### Steps in Unsupervised Learning:\n",
    "* Input data is provided without labels.\n",
    "* The model identifies hidden patterns or structures."
   ]
  },
  {
   "cell_type": "markdown",
   "id": "d168c13e-5b5c-4aee-983d-23c72b4aa7f7",
   "metadata": {},
   "source": [
    "### Examples:\n",
    "\n",
    "* Clustering:\n",
    "\n",
    "    - Problem: Segment customers based on purchasing behavior.\n",
    "    - Output: Groups like \"frequent buyers,\" \"seasonal buyers,\" \"low spenders.\"\n",
    "      \n",
    "* Dimensionality Reduction:\n",
    "    - Problem: Reduce the number of features in a dataset for visualization or faster computation."
   ]
  },
  {
   "cell_type": "markdown",
   "id": "97b29d26-1d39-44f1-bfda-0ab9be100644",
   "metadata": {},
   "source": [
    "### 3. Reinforcement Learning"
   ]
  },
  {
   "cell_type": "markdown",
   "id": "d0cdd279-ed8e-462d-b3e1-3a311ff2ea0f",
   "metadata": {},
   "source": [
    "* In **Reinforcement Learning**, the model learns by interacting with an environment and receiving feedback in the form of *rewards* or *punishments*.\n",
    "\n",
    "* The model is not given explicit input-output pairs; instead, it explores different actions and learns which actions lead to the best outcomes."
   ]
  },
  {
   "cell_type": "markdown",
   "id": "a67d73bd-5c3e-4494-9a5d-f61b377e8fb8",
   "metadata": {},
   "source": [
    "#### Steps in Reinforcement Learning:\n",
    "- The agent interacts with the environment by performing actions.\n",
    "- The environment provides feedback (reward or punishment).\n",
    "- The agent adjusts its actions to maximize the cumulative reward."
   ]
  },
  {
   "cell_type": "markdown",
   "id": "4b26ae36-6f45-49db-9716-07177bedadb5",
   "metadata": {},
   "source": [
    "#### Examples:\n",
    "\n",
    "- Game Playing:\n",
    "  - Problem: A robot learning to play chess.\n",
    "  - Reward: Winning the game.\n",
    "\n",
    "- Self-Driving Cars:\n",
    "  - Problem: A car learning to drive by avoiding obstacles.\n",
    "  - Reward: Driving longer without accidents."
   ]
  },
  {
   "cell_type": "markdown",
   "id": "5ff583fb-3a2d-4bfc-878b-630419fe8e8d",
   "metadata": {},
   "source": [
    "| Aspect | Supervised Learning | Unsupervised Learning | Reinforcement Learning |\n",
    "|---|---|---|---|\n",
    "| Input Data | Labeled (X, Y) | Unlabeled (X) | Environment interaction |\n",
    "| Output | Predict labels or values | Find patterns or clusters | Sequence of actions |\n",
    "| Goal | Learn the mapping X → Y | Identify structure in data | Maximize cumulative reward |\n",
    "| Use Case Examples | Spam detection, House pricing | Customer segmentation, PCA | Gaming, Robotics, Self-driving cars |"
   ]
  },
  {
   "cell_type": "markdown",
   "id": "fae156c0-6851-4401-9b14-ef048c7b9b10",
   "metadata": {},
   "source": [
    "# Machine Learning\n",
    "* Supervised Learning\n",
    "    * Regression (e.g., Predict house price)\n",
    "    * Classification (e.g., Spam detection)\n",
    "* Unsupervised Learning\n",
    "    * Clustering (e.g., Customer segmentation)\n",
    "    * Dimensionality Reduction (e.g., PCA for feature reduction)\n",
    "* Reinforcement Learning\n",
    "    * Gaming (e.g., Robot learns chess)\n",
    "    * Robotics (e.g., Self-driving cars)"
   ]
  },
  {
   "cell_type": "code",
   "execution_count": null,
   "id": "9108051a-86cb-40e2-9a87-816efb89458d",
   "metadata": {},
   "outputs": [],
   "source": []
  }
 ],
 "metadata": {
  "kernelspec": {
   "display_name": "Python (super)",
   "language": "python",
   "name": "super"
  },
  "language_info": {
   "codemirror_mode": {
    "name": "ipython",
    "version": 3
   },
   "file_extension": ".py",
   "mimetype": "text/x-python",
   "name": "python",
   "nbconvert_exporter": "python",
   "pygments_lexer": "ipython3",
   "version": "3.9.20"
  }
 },
 "nbformat": 4,
 "nbformat_minor": 5
}
