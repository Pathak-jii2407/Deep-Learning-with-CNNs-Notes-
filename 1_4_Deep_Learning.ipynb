{
 "cells": [
  {
   "cell_type": "markdown",
   "id": "a8de6638-7507-4e73-8e48-8171e4a6916c",
   "metadata": {},
   "source": [
    "# Deep Learning: What Makes It Different from Traditional Machine Learning?"
   ]
  },
  {
   "cell_type": "markdown",
   "id": "71e45617-a851-4484-9651-8aafafafdc40",
   "metadata": {},
   "source": [
    "*Deep learning is a specialized branch of machine learning, but it stands out due to its ability to automatically extract features and learn hierarchical representations. Here's an in-depth exploration of how deep learning differs from traditional machine learning (ML):*"
   ]
  },
  {
   "cell_type": "markdown",
   "id": "8e9faeec-fbe2-4dd2-a8d7-3280d7a52936",
   "metadata": {},
   "source": [
    "| Key Differences | Traditional ML | Deep Learning |\n",
    "|---|---|---|\n",
    "| Feature Engineering | Features are handcrafted and require domain expertise. | Features are automatically extracted by the model. |\n",
    "| Data Dependency | Works well with small to medium-sized datasets. | Requires large datasets to perform well. |\n",
    "| Performance | Plateaus after a point with more data. | Improves with more data. |\n",
    "| Model Type | Relies on algorithms like SVM, Random Forest, etc. | Uses neural networks with multiple layers. |\n",
    "| Complexity | Effective for simpler patterns in the data. | Excels at learning complex patterns like images, audio, and text. |\n",
    "| Hardware Requirement | Can run on standard CPUs. | Requires GPUs/TPUs for efficient computation. |"
   ]
  },
  {
   "cell_type": "markdown",
   "id": "a6ac5943-1cce-4002-bd50-f85ef06409b3",
   "metadata": {},
   "source": [
    "# Why is Deep Learning Powerful?"
   ]
  },
  {
   "cell_type": "markdown",
   "id": "36721967-912c-4798-aa70-4b039c63ddbb",
   "metadata": {},
   "source": [
    "* **Hierarchical Feature Learning**:\n",
    "Deep learning automatically learns a hierarchy of features:\n",
    "    - Low-level layers capture basic features (e.g., edges in images).\n",
    "    - Mid-level layers capture intermediate patterns (e.g., shapes or objects).\n",
    "    - High-level layers capture abstract concepts (e.g., faces, emotions).\n",
    "* **Scalability with Data**:\n",
    "    - Traditional ML often struggles with more data due to overfitting or computational limitations.\n",
    "    - Deep learning thrives on large datasets, learning more robust patterns.\n",
    "* **Versatility**:\n",
    "    - Deep learning can handle unstructured data (e.g., images, videos, text), unlike traditional ML, which often requires structured data."
   ]
  },
  {
   "cell_type": "markdown",
   "id": "d1076674-a7d0-4ab7-af0f-922ddbad2c7f",
   "metadata": {},
   "source": [
    "# Examples\n",
    "\n",
    "### Image Classification\n",
    "- **Traditional ML**:\n",
    "    Requires manual feature extraction (e.g., edge detection using techniques like HOG/SIFT) before feeding to an ML model like SVM.\n",
    "- **Deep Learning**:\n",
    "    Convolutional Neural Networks (CNNs) automatically extract features and classify images.\n",
    "\n",
    "\n",
    "### Natural Language Processing\n",
    "- **Traditional ML**:\n",
    "    Relies on handcrafted features like TF-IDF and bag-of-words representations.\n",
    "- **Deep Learning**:\n",
    "    Uses architectures like RNNs, LSTMs, and Transformers for context-aware language understanding.\n"
   ]
  },
  {
   "cell_type": "markdown",
   "id": "aa92f8b2-3b7c-4f00-8526-c64093ed5c02",
   "metadata": {},
   "source": [
    "# Code Example: ML vs. Deep Learning for Classification\n",
    "**Traditional ML (SVM for Iris Dataset)**"
   ]
  },
  {
   "cell_type": "code",
   "execution_count": 1,
   "id": "afbb4a32-4e59-4e27-8ac5-441f225756cb",
   "metadata": {},
   "outputs": [
    {
     "name": "stdout",
     "output_type": "stream",
     "text": [
      "Traditional ML Accuracy: 1.0\n"
     ]
    }
   ],
   "source": [
    "from sklearn.datasets import load_iris\n",
    "from sklearn.model_selection import train_test_split\n",
    "from sklearn.svm import SVC\n",
    "from sklearn.metrics import accuracy_score\n",
    "\n",
    "# Load Iris dataset\n",
    "data = load_iris()\n",
    "X, y = data.data, data.target\n",
    "\n",
    "# Train-test split\n",
    "X_train, X_test, y_train, y_test = train_test_split(X, y, test_size=0.2, random_state=42)\n",
    "\n",
    "# Train SVM\n",
    "model = SVC(kernel='linear')\n",
    "model.fit(X_train, y_train)\n",
    "\n",
    "# Evaluate\n",
    "y_pred = model.predict(X_test)\n",
    "print(\"Traditional ML Accuracy:\", accuracy_score(y_test, y_pred))\n"
   ]
  },
  {
   "cell_type": "markdown",
   "id": "02f21337-6f9f-487c-967b-17e50311baf9",
   "metadata": {},
   "source": [
    "**Deep Learning (Using TensorFlow)**"
   ]
  },
  {
   "cell_type": "code",
   "execution_count": 17,
   "id": "c2179106-40a0-47f4-b3aa-09cc174a9ca7",
   "metadata": {},
   "outputs": [
    {
     "name": "stdout",
     "output_type": "stream",
     "text": [
      "Deep Learning Accuracy: 0.8999999761581421\n"
     ]
    }
   ],
   "source": [
    "import tensorflow as tf\n",
    "from tensorflow.keras.models import Sequential\n",
    "from tensorflow.keras.layers import Dense, Dropout, BatchNormalization\n",
    "\n",
    "# Define the model\n",
    "model = Sequential([\n",
    "    Dense(64, activation='relu', input_shape=(4,)),# Hidden layer\n",
    "    Dropout(0.4),\n",
    "    BatchNormalization(),\n",
    "    Dense(128, activation='relu'),\n",
    "    Dropout(0.5),\n",
    "    BatchNormalization(),\n",
    "    Dense(64, activation='relu'),\n",
    "    Dropout(0.4),\n",
    "    BatchNormalization(),\n",
    "    \n",
    "    Dense(3, activation='softmax')                  # Output layer\n",
    "])\n",
    "\n",
    "# Compile the model\n",
    "model.compile(optimizer='adam', loss='sparse_categorical_crossentropy', metrics=['accuracy'])\n",
    "\n",
    "# Train the model\n",
    "history = model.fit(X_train, y_train, epochs=50, verbose=0, batch_size=32)\n",
    "\n",
    "# Evaluate\n",
    "loss, accuracy = model.evaluate(X_test, y_test, verbose=0)\n",
    "print(\"Deep Learning Accuracy:\", accuracy)\n"
   ]
  },
  {
   "cell_type": "markdown",
   "id": "368edad9-533f-4c20-9f44-7617c9d47603",
   "metadata": {},
   "source": [
    "## Visualization: Deep Learning vs. Traditional ML"
   ]
  },
  {
   "cell_type": "code",
   "execution_count": 15,
   "id": "12040e1f-d76f-4719-b417-bcc67866213b",
   "metadata": {},
   "outputs": [
    {
     "data": {
      "text/plain": [
       "'\\n         +-------------------+\\n         |   Traditional ML  |\\n         +-------------------+\\n         | Feature Extraction|\\n         +--------+----------+\\n                  |\\n                  v\\n       +----------+-----------+\\n       |    ML Algorithm       |\\n       +-----------------------+\\n\\n                  vs.\\n\\n         +-------------------+\\n         |   Deep Learning   |\\n         +-------------------+\\n         | Raw Input Data    |\\n         +--------+----------+\\n                  |\\n                  v\\n      +------------------------+\\n      |   Neural Network Layers|\\n      +------------------------+\\n                  |\\n                  v\\n         +------------------+\\n         | Prediction Output|\\n         +------------------+\\n\\n\\n\\n\\n'"
      ]
     },
     "execution_count": 15,
     "metadata": {},
     "output_type": "execute_result"
    }
   ],
   "source": [
    "\"\"\"\n",
    "         +-------------------+\n",
    "         |   Traditional ML  |\n",
    "         +-------------------+\n",
    "         | Feature Extraction|\n",
    "         +--------+----------+\n",
    "                  |\n",
    "                  v\n",
    "       +----------+-----------+\n",
    "       |    ML Algorithm       |\n",
    "       +-----------------------+\n",
    "\n",
    "                  vs.\n",
    "\n",
    "         +-------------------+\n",
    "         |   Deep Learning   |\n",
    "         +-------------------+\n",
    "         | Raw Input Data    |\n",
    "         +--------+----------+\n",
    "                  |\n",
    "                  v\n",
    "      +------------------------+\n",
    "      |   Neural Network Layers|\n",
    "      +------------------------+\n",
    "                  |\n",
    "                  v\n",
    "         +------------------+\n",
    "         | Prediction Output|\n",
    "         +------------------+\n",
    "\n",
    "\n",
    "\n",
    "\n",
    "\"\"\""
   ]
  },
  {
   "cell_type": "markdown",
   "id": "3bb7db81-31d2-43b1-86a0-c3e3060f3199",
   "metadata": {},
   "source": [
    "# Doubts:"
   ]
  },
  {
   "cell_type": "markdown",
   "id": "9eb7600c-3b55-4f1b-b736-9af49bbccfcf",
   "metadata": {},
   "source": [
    "**What Does 'Plateau' Mean in Machine Learning?**\n",
    "\n",
    "The term plateau refers to a state where the performance of a machine learning model stops improving, even if you provide it with more data or training. It's like reaching a flat part of a mountain — no matter how much effort you put in (more data or training), you can't go higher.\n",
    "\n"
   ]
  },
  {
   "cell_type": "markdown",
   "id": "9c0dfbcd-bc6f-4a51-8b6f-7a9e12ac3c15",
   "metadata": {},
   "source": [
    "**Plateau:** When a model stops improving despite more data, it's said to plateau."
   ]
  },
  {
   "cell_type": "code",
   "execution_count": null,
   "id": "f8443343-4c3c-42f4-a5f7-df9b0d8126d8",
   "metadata": {},
   "outputs": [],
   "source": []
  }
 ],
 "metadata": {
  "kernelspec": {
   "display_name": "Python (super)",
   "language": "python",
   "name": "super"
  },
  "language_info": {
   "codemirror_mode": {
    "name": "ipython",
    "version": 3
   },
   "file_extension": ".py",
   "mimetype": "text/x-python",
   "name": "python",
   "nbconvert_exporter": "python",
   "pygments_lexer": "ipython3",
   "version": "3.9.20"
  }
 },
 "nbformat": 4,
 "nbformat_minor": 5
}
