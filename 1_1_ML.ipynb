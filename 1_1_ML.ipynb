{
 "cells": [
  {
   "cell_type": "markdown",
   "id": "f30e6594-23bc-4134-ad27-e3cbc2136872",
   "metadata": {},
   "source": [
    "# **What is Machine Learning (ML)?**\n",
    "\n",
    "* *Machine Learning (ML) is a field of artificial intelligence (AI) that allows systems to automatically improve and learn from experience without being explicitly programmed. In simple terms, it’s about enabling machines to learn from data and make decisions or predictions based on that data.*"
   ]
  },
  {
   "cell_type": "markdown",
   "id": "1cb1072d-5c0c-4dff-8308-ef21e1424dac",
   "metadata": {},
   "source": [
    "### *Key Concepts of Machine Learning:*\n",
    "\n",
    "- **Learning from data**: ML systems learn patterns from data rather than following pre-programmed rules.\n",
    "- **Modeling**: A model is created using data, which can then be used to make predictions or decisions.\n",
    "- **Experience**: As more data is introduced, the model improves its ability to make predictions."
   ]
  },
  {
   "cell_type": "markdown",
   "id": "966fdc10-9fcc-46a1-81b5-1b71a869c9b0",
   "metadata": {},
   "source": [
    "## Types of Machine Learning\n",
    "\n",
    "#### Supervised Learning:\n",
    "\n",
    "* The model is trained on a labeled dataset, where the input data is paired with the correct output (label).\n",
    "* The goal is for the model to learn the mapping between inputs and outputs.\n",
    "* Example: A model trained to predict house prices (input: size, location, etc.; output: price).\n",
    "\n",
    "*Example of Supervised Learning:*\n",
    "\n",
    "*Dataset: (Size, Location) → Price of a House\n",
    "(1500 sqft, \"NYC\") → $500,000\n",
    "(1000 sqft, \"LA\") → $300,000*\n",
    "\n",
    "#### Unsupervised Learning:\n",
    "\n",
    "* The model is trained using unlabeled data, and its task is to find patterns, groupings, or structures in the data.\n",
    "* It’s used for clustering, dimensionality reduction, etc.\n",
    "* Example: Grouping customers into segments based on purchasing behavior.\n",
    "\n",
    "*Example of Unsupervised Learning:*\n",
    "\n",
    "*Dataset: Customer purchase data\n",
    "The model finds patterns in spending habits and clusters customers into groups (e.g., “High spender,” “Occasional buyer”).*\n",
    "\n",
    "\n",
    "#### Reinforcement Learning:\n",
    "\n",
    "* The model learns by interacting with an environment and receives feedback in the form of rewards or punishments.\n",
    "* The goal is to learn a sequence of actions that maximizes cumulative reward.\n",
    "* Example: A robot learning to play a game by trial and error.\n",
    "* \n",
    "*Example of Reinforcement Learning:*\n",
    "\n",
    "*A robot learns to walk by receiving positive feedback (rewards) when it moves in the right direction and negative feedback (punishments) when it falls.*\n"
   ]
  },
  {
   "cell_type": "markdown",
   "id": "5f74e1a7-5127-46db-874f-9282df579c8d",
   "metadata": {},
   "source": [
    "### Machine Learning Process:\n",
    "**The general workflow of a machine learning system can be broken down into the following steps:**\n",
    "\n",
    "- Data Collection: Gathering data that will be used to train the model.\n",
    "- Data Preprocessing: Cleaning the data (removing missing values, scaling features, etc.).\n",
    "- Model Training: Using the processed data to train a machine learning algorithm.\n",
    "- Evaluation: Assessing the performance of the model using evaluation metrics.\n",
    "- Deployment: Deploying the trained model to make real-world predictions.\n"
   ]
  },
  {
   "cell_type": "code",
   "execution_count": 8,
   "id": "75d1a556-6acd-4a88-89dd-ec74ad4a0487",
   "metadata": {},
   "outputs": [],
   "source": [
    "   #             +------------------+       +-----------------+       +-----------------+\n",
    "   #             | Data Collection  | ---> | Data Preprocessing| ---> | Model Training   |\n",
    "   #             +------------------+       +-----------------+       +-----------------+\n",
    "   #                                                     |  \n",
    "   #                                                     v\n",
    "   #                                           +-----------------+  \n",
    "   #                                           | Evaluation      | \n",
    "   #                                           +-----------------+ \n",
    "   #                                                    |\n",
    "   #                                                    v\n",
    "   #                                           +-----------------+\n",
    "   #                                           | Model Deployment |\n",
    "   #                                           +-----------------+\n"
   ]
  },
  {
   "cell_type": "code",
   "execution_count": null,
   "id": "0bfb8325-d490-4ac0-b4bb-962e24be2213",
   "metadata": {},
   "outputs": [],
   "source": []
  }
 ],
 "metadata": {
  "kernelspec": {
   "display_name": "Python (super)",
   "language": "python",
   "name": "super"
  },
  "language_info": {
   "codemirror_mode": {
    "name": "ipython",
    "version": 3
   },
   "file_extension": ".py",
   "mimetype": "text/x-python",
   "name": "python",
   "nbconvert_exporter": "python",
   "pygments_lexer": "ipython3",
   "version": "3.9.20"
  }
 },
 "nbformat": 4,
 "nbformat_minor": 5
}
